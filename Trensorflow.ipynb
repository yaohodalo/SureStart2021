{
  "nbformat": 4,
  "nbformat_minor": 0,
  "metadata": {
    "colab": {
      "name": "Trensorflow.ipynb",
      "provenance": [],
      "authorship_tag": "ABX9TyO+GxyeGCg+RGUQ4PihKTAP",
      "include_colab_link": true
    },
    "kernelspec": {
      "name": "python3",
      "display_name": "Python 3"
    }
  },
  "cells": [
    {
      "cell_type": "markdown",
      "metadata": {
        "id": "view-in-github",
        "colab_type": "text"
      },
      "source": [
        "<a href=\"https://colab.research.google.com/github/yaohodalo/SureStart2021/blob/main/Trensorflow.ipynb\" target=\"_parent\"><img src=\"https://colab.research.google.com/assets/colab-badge.svg\" alt=\"Open In Colab\"/></a>"
      ]
    },
    {
      "cell_type": "code",
      "metadata": {
        "colab": {
          "base_uri": "https://localhost:8080/"
        },
        "id": "2Vke__gJfk1q",
        "outputId": "dabfdfed-a12a-43ce-8aa5-910f0f767097"
      },
      "source": [
        "import tensorflow as tf\r\n",
        "\r\n",
        "# initilize two constants:\r\n",
        "x1 = tf.constant([1,2,3,4])\r\n",
        "x2 = tf.constant([5,6,7,8])\r\n",
        "# multiply\r\n",
        "result = tf.multiply(x1,x2)\r\n",
        "\r\n",
        "# output\r\n",
        "print(result)\r\n",
        "\r\n",
        "\r\n",
        "\r\n"
      ],
      "execution_count": null,
      "outputs": [
        {
          "output_type": "stream",
          "text": [
            "Tensor(\"Mul_3:0\", shape=(4,), dtype=int32)\n"
          ],
          "name": "stdout"
        }
      ]
    },
    {
      "cell_type": "code",
      "metadata": {
        "colab": {
          "base_uri": "https://localhost:8080/"
        },
        "id": "q8plrlgW3gG4",
        "outputId": "18e760e4-d0de-400f-8be6-a7a5780c48cc"
      },
      "source": [
        "# initialize the session\r\n",
        "sess = tf.compat.v1.Session()\r\n",
        "#print the result\r\n",
        "print(sess.run(result))\r\n",
        "#closes session\r\n",
        "sess.close()"
      ],
      "execution_count": null,
      "outputs": [
        {
          "output_type": "stream",
          "text": [
            "[ 5 12 21 32]\n"
          ],
          "name": "stdout"
        }
      ]
    },
    {
      "cell_type": "code",
      "metadata": {
        "colab": {
          "base_uri": "https://localhost:8080/"
        },
        "id": "m7mUU2tk3lRD",
        "outputId": "ffe926e7-79d7-4fbc-9a96-beeee2d17381"
      },
      "source": [
        "# initialize the session\r\n",
        "with tf.compat.v1.Session() as sess:\r\n",
        "  output = sess.run(result)\r\n",
        "  print(output)\r\n"
      ],
      "execution_count": null,
      "outputs": [
        {
          "output_type": "stream",
          "text": [
            "[ 5 12 21 32]\n"
          ],
          "name": "stdout"
        }
      ]
    },
    {
      "cell_type": "code",
      "metadata": {
        "id": "tgUd3yw54EtO"
      },
      "source": [
        "config=tf.ConfigProto(log_device_placement=True)"
      ],
      "execution_count": null,
      "outputs": []
    },
    {
      "cell_type": "code",
      "metadata": {
        "colab": {
          "base_uri": "https://localhost:8080/",
          "height": 322
        },
        "id": "19zhPogf2ybs",
        "outputId": "62024b69-8e49-4e18-c9df-43af1e55a2ed"
      },
      "source": [
        "import os\r\n",
        "def load_data(data_directory):\r\n",
        "    directories = [d for d in os.listdir(data_directory) \r\n",
        "                   if os.path.isdir(os.path.join(data_directory, d))]\r\n",
        "    labels = []\r\n",
        "    images = []\r\n",
        "    for d in directories:\r\n",
        "        label_directory = os.path.join(data_directory, d)\r\n",
        "        file_names = [os.path.join(label_directory, f) \r\n",
        "                      for f in os.listdir(label_directory) \r\n",
        "                      if f.endswith(\".ppm\")]\r\n",
        "        for f in file_names:\r\n",
        "            images.append(skimage.data.imread(f))\r\n",
        "            labels.append(int(d))\r\n",
        "    return images, labels\r\n",
        "\r\n",
        "ROOT_PATH = \"C:/Users/ypoud/Downloads\"\r\n",
        "train_data_directory = os.path.join(ROOT_PATH, \"BelgiumTSC_Training/Training\")\r\n",
        "test_data_directory = os.path.join(ROOT_PATH, \"TrafficSigns/Testing\")\r\n",
        "\r\n",
        "images, labels = load_data(train_data_directory)"
      ],
      "execution_count": null,
      "outputs": [
        {
          "output_type": "error",
          "ename": "FileNotFoundError",
          "evalue": "ignored",
          "traceback": [
            "\u001b[0;31m---------------------------------------------------------------------------\u001b[0m",
            "\u001b[0;31mFileNotFoundError\u001b[0m                         Traceback (most recent call last)",
            "\u001b[0;32m<ipython-input-10-773075d3ffc7>\u001b[0m in \u001b[0;36m<module>\u001b[0;34m()\u001b[0m\n\u001b[1;32m     19\u001b[0m \u001b[0mtest_data_directory\u001b[0m \u001b[0;34m=\u001b[0m \u001b[0mos\u001b[0m\u001b[0;34m.\u001b[0m\u001b[0mpath\u001b[0m\u001b[0;34m.\u001b[0m\u001b[0mjoin\u001b[0m\u001b[0;34m(\u001b[0m\u001b[0mROOT_PATH\u001b[0m\u001b[0;34m,\u001b[0m \u001b[0;34m\"TrafficSigns/Testing\"\u001b[0m\u001b[0;34m)\u001b[0m\u001b[0;34m\u001b[0m\u001b[0;34m\u001b[0m\u001b[0m\n\u001b[1;32m     20\u001b[0m \u001b[0;34m\u001b[0m\u001b[0m\n\u001b[0;32m---> 21\u001b[0;31m \u001b[0mimages\u001b[0m\u001b[0;34m,\u001b[0m \u001b[0mlabels\u001b[0m \u001b[0;34m=\u001b[0m \u001b[0mload_data\u001b[0m\u001b[0;34m(\u001b[0m\u001b[0mtrain_data_directory\u001b[0m\u001b[0;34m)\u001b[0m\u001b[0;34m\u001b[0m\u001b[0;34m\u001b[0m\u001b[0m\n\u001b[0m",
            "\u001b[0;32m<ipython-input-10-773075d3ffc7>\u001b[0m in \u001b[0;36mload_data\u001b[0;34m(data_directory)\u001b[0m\n\u001b[1;32m      1\u001b[0m \u001b[0;32mimport\u001b[0m \u001b[0mos\u001b[0m\u001b[0;34m\u001b[0m\u001b[0;34m\u001b[0m\u001b[0m\n\u001b[1;32m      2\u001b[0m \u001b[0;32mdef\u001b[0m \u001b[0mload_data\u001b[0m\u001b[0;34m(\u001b[0m\u001b[0mdata_directory\u001b[0m\u001b[0;34m)\u001b[0m\u001b[0;34m:\u001b[0m\u001b[0;34m\u001b[0m\u001b[0;34m\u001b[0m\u001b[0m\n\u001b[0;32m----> 3\u001b[0;31m     directories = [d for d in os.listdir(data_directory) \n\u001b[0m\u001b[1;32m      4\u001b[0m                    if os.path.isdir(os.path.join(data_directory, d))]\n\u001b[1;32m      5\u001b[0m     \u001b[0mlabels\u001b[0m \u001b[0;34m=\u001b[0m \u001b[0;34m[\u001b[0m\u001b[0;34m]\u001b[0m\u001b[0;34m\u001b[0m\u001b[0;34m\u001b[0m\u001b[0m\n",
            "\u001b[0;31mFileNotFoundError\u001b[0m: [Errno 2] No such file or directory: 'C:/Users/ypoud/Downloads/BelgiumTSC_Training/Training'"
          ]
        }
      ]
    }
  ]
}