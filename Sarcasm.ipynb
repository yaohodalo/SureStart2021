{
  "nbformat": 4,
  "nbformat_minor": 0,
  "metadata": {
    "colab": {
      "name": "Copy of Untitled1.ipynb",
      "provenance": [],
      "collapsed_sections": [],
      "include_colab_link": true
    },
    "kernelspec": {
      "name": "python3",
      "display_name": "Python 3"
    }
  },
  "cells": [
    {
      "cell_type": "markdown",
      "metadata": {
        "id": "view-in-github",
        "colab_type": "text"
      },
      "source": [
        "<a href=\"https://colab.research.google.com/github/yaohodalo/SureStart2021/blob/main/Sarcasm.ipynb\" target=\"_parent\"><img src=\"https://colab.research.google.com/assets/colab-badge.svg\" alt=\"Open In Colab\"/></a>"
      ]
    },
    {
      "cell_type": "code",
      "metadata": {
        "id": "ZvSOpprhjEOr"
      },
      "source": [
        "#Necessary packages\r\n",
        "import pandas as pd\r\n",
        "import numpy as np\r\n",
        "import os\r\n",
        "import json\r\n",
        "from sklearn.model_selection import train_test_split as tts\r\n",
        "from sklearn.model_selection import cross_val_score as cvs\r\n",
        "import nltk\r\n",
        "from sklearn.feature_extraction.text import TfidfVectorizer\r\n",
        "import keras\r\n",
        "import tensorflow as tf\r\n",
        "from keras import models\r\n",
        "from keras import layers\r\n",
        "from keras.models import Sequential\r\n",
        "from keras.layers import Dense\r\n",
        "from tensorflow.keras.losses import MeanSquaredError as mse\r\n",
        "import sklearn.metrics\r\n",
        "from sklearn.metrics import confusion_matrix as cm\r\n",
        "from sklearn.metrics import precision_score, recall_score"
      ],
      "execution_count": null,
      "outputs": []
    },
    {
      "cell_type": "code",
      "metadata": {
        "colab": {
          "base_uri": "https://localhost:8080/"
        },
        "id": "UQIwYxaIjF-Z",
        "outputId": "86732465-37e5-4e4c-d055-1c3dd3cd11c0"
      },
      "source": [
        "#Getting pathnames for each file in the input folder\r\n",
        "for dirname, _, filenames in os.walk('/content/Sarcasm_Headlines_Dataset_v2.json'):\r\n",
        "    for filename in filenames:\r\n",
        "        print(os.path.join(dirname, filename))\r\n",
        "\r\n",
        "#Function to parse data\r\n",
        "def parse_data(file):\r\n",
        "    for l in open(file,'r'):\r\n",
        "        yield json.loads(l)\r\n",
        "\r\n",
        "#Taking in the data in one of the json files (I'm using the slightly larger one)\r\n",
        "data = list(parse_data(\"/content/Sarcasm_Headlines_Dataset_v2.json\"))\r\n",
        "\r\n",
        "#Check 0-th index in our data\r\n",
        "data[0]"
      ],
      "execution_count": null,
      "outputs": [
        {
          "output_type": "execute_result",
          "data": {
            "text/plain": [
              "{'article_link': 'https://www.theonion.com/thirtysomething-scientists-unveil-doomsday-clock-of-hai-1819586205',\n",
              " 'headline': 'thirtysomething scientists unveil doomsday clock of hair loss',\n",
              " 'is_sarcastic': 1}"
            ]
          },
          "metadata": {
            "tags": []
          },
          "execution_count": 4
        }
      ]
    },
    {
      "cell_type": "code",
      "metadata": {
        "id": "9K7g7y52jd-i"
      },
      "source": [
        "#Creating our X variable\r\n",
        "vectorizer = TfidfVectorizer(max_features=50, use_idf=False)\r\n",
        "headlines = [i['headline'] for i in data]\r\n",
        "X = vectorizer.fit_transform(headlines).toarray()\r\n",
        "\r\n",
        "#Creating our y variable\r\n",
        "y = np.ravel([i['is_sarcastic'] for i in data])\r\n",
        "\r\n",
        "#Creating a train and test split\r\n",
        "X_train, X_test, y_train, y_test = tts(X, y, test_size = 0.2, random_state = 1693)"
      ],
      "execution_count": null,
      "outputs": []
    },
    {
      "cell_type": "code",
      "metadata": {
        "id": "WQTIoXv5jwFd"
      },
      "source": [
        "#Now we're going to build the model with its layers\r\n",
        "\r\n",
        "#Initialize the model\r\n",
        "model = Sequential()\r\n",
        "\r\n",
        "#Add the input layer\r\n",
        "model.add(Dense(24, activation = 'relu', input_shape = (50,)))\r\n",
        "\r\n",
        "#Add first hidden layer\r\n",
        "model.add(Dense(12, activation = 'relu'))\r\n",
        "\r\n",
        "#Add second hidden layer\r\n",
        "model.add(Dense(8, activation = 'relu'))\r\n",
        "\r\n",
        "#Add output layer\r\n",
        "model.add(Dense(1, activation='softmax'))"
      ],
      "execution_count": null,
      "outputs": []
    },
    {
      "cell_type": "code",
      "metadata": {
        "colab": {
          "base_uri": "https://localhost:8080/"
        },
        "id": "C3Htwaq_jzUL",
        "outputId": "940eb708-0462-47a9-c649-d7afd8a2a8f4"
      },
      "source": [
        "#Now we're going to compile the model\r\n",
        "#Our loss function is binary crossentropy\r\n",
        "#Our optimizer is adam\r\n",
        "\r\n",
        "model.compile(loss = 'binary_crossentropy', \r\n",
        "              optimizer = 'adam',\r\n",
        "              metrics = ['accuracy', 'mse'])\r\n",
        "\r\n",
        "#We're going to also fit the model\r\n",
        "#We're going to do 20 epochs\r\n",
        "#The batch size will be 224 to get ~100 iterations per epoch\r\n",
        "model.fit(X_train, y_train, epochs = 50,\r\n",
        "          batch_size = 224, verbose = 1)"
      ],
      "execution_count": null,
      "outputs": [
        {
          "output_type": "stream",
          "text": [
            "Epoch 1/50\n",
            "103/103 [==============================] - 1s 1ms/step - loss: 0.6854 - accuracy: 0.4806 - mse: 0.5194\n",
            "Epoch 2/50\n",
            "103/103 [==============================] - 0s 2ms/step - loss: 0.5778 - accuracy: 0.4750 - mse: 0.5250\n",
            "Epoch 3/50\n",
            "103/103 [==============================] - 0s 2ms/step - loss: 0.5355 - accuracy: 0.4813 - mse: 0.5187\n",
            "Epoch 4/50\n",
            "103/103 [==============================] - 0s 2ms/step - loss: 0.5319 - accuracy: 0.4789 - mse: 0.5211\n",
            "Epoch 5/50\n",
            "103/103 [==============================] - 0s 2ms/step - loss: 0.5362 - accuracy: 0.4783 - mse: 0.5217\n",
            "Epoch 6/50\n",
            "103/103 [==============================] - 0s 2ms/step - loss: 0.5242 - accuracy: 0.4732 - mse: 0.5268\n",
            "Epoch 7/50\n",
            "103/103 [==============================] - 0s 2ms/step - loss: 0.5270 - accuracy: 0.4804 - mse: 0.5196\n",
            "Epoch 8/50\n",
            "103/103 [==============================] - 0s 1ms/step - loss: 0.5277 - accuracy: 0.4763 - mse: 0.5237\n",
            "Epoch 9/50\n",
            "103/103 [==============================] - 0s 2ms/step - loss: 0.5249 - accuracy: 0.4771 - mse: 0.5229\n",
            "Epoch 10/50\n",
            "103/103 [==============================] - 0s 2ms/step - loss: 0.5259 - accuracy: 0.4776 - mse: 0.5224\n",
            "Epoch 11/50\n",
            "103/103 [==============================] - 0s 2ms/step - loss: 0.5269 - accuracy: 0.4848 - mse: 0.5152\n",
            "Epoch 12/50\n",
            "103/103 [==============================] - 0s 1ms/step - loss: 0.5208 - accuracy: 0.4759 - mse: 0.5241\n",
            "Epoch 13/50\n",
            "103/103 [==============================] - 0s 2ms/step - loss: 0.5203 - accuracy: 0.4806 - mse: 0.5194\n",
            "Epoch 14/50\n",
            "103/103 [==============================] - 0s 2ms/step - loss: 0.5261 - accuracy: 0.4782 - mse: 0.5218\n",
            "Epoch 15/50\n",
            "103/103 [==============================] - 0s 1ms/step - loss: 0.5250 - accuracy: 0.4844 - mse: 0.5156\n",
            "Epoch 16/50\n",
            "103/103 [==============================] - 0s 1ms/step - loss: 0.5205 - accuracy: 0.4801 - mse: 0.5199\n",
            "Epoch 17/50\n",
            "103/103 [==============================] - 0s 2ms/step - loss: 0.5201 - accuracy: 0.4788 - mse: 0.5212\n",
            "Epoch 18/50\n",
            "103/103 [==============================] - 0s 2ms/step - loss: 0.5250 - accuracy: 0.4781 - mse: 0.5219\n",
            "Epoch 19/50\n",
            "103/103 [==============================] - 0s 2ms/step - loss: 0.5111 - accuracy: 0.4819 - mse: 0.5181\n",
            "Epoch 20/50\n",
            "103/103 [==============================] - 0s 2ms/step - loss: 0.5181 - accuracy: 0.4794 - mse: 0.5206\n",
            "Epoch 21/50\n",
            "103/103 [==============================] - 0s 1ms/step - loss: 0.5158 - accuracy: 0.4741 - mse: 0.5259\n",
            "Epoch 22/50\n",
            "103/103 [==============================] - 0s 2ms/step - loss: 0.5121 - accuracy: 0.4811 - mse: 0.5189\n",
            "Epoch 23/50\n",
            "103/103 [==============================] - 0s 2ms/step - loss: 0.5079 - accuracy: 0.4810 - mse: 0.5190\n",
            "Epoch 24/50\n",
            "103/103 [==============================] - 0s 2ms/step - loss: 0.5133 - accuracy: 0.4807 - mse: 0.5193\n",
            "Epoch 25/50\n",
            "103/103 [==============================] - 0s 2ms/step - loss: 0.5104 - accuracy: 0.4753 - mse: 0.5247\n",
            "Epoch 26/50\n",
            "103/103 [==============================] - 0s 2ms/step - loss: 0.5131 - accuracy: 0.4794 - mse: 0.5206\n",
            "Epoch 27/50\n",
            "103/103 [==============================] - 0s 2ms/step - loss: 0.5114 - accuracy: 0.4791 - mse: 0.5209\n",
            "Epoch 28/50\n",
            "103/103 [==============================] - 0s 2ms/step - loss: 0.5057 - accuracy: 0.4752 - mse: 0.5248\n",
            "Epoch 29/50\n",
            "103/103 [==============================] - 0s 1ms/step - loss: 0.5093 - accuracy: 0.4776 - mse: 0.5224\n",
            "Epoch 30/50\n",
            "103/103 [==============================] - 0s 2ms/step - loss: 0.5104 - accuracy: 0.4810 - mse: 0.5190\n",
            "Epoch 31/50\n",
            "103/103 [==============================] - 0s 2ms/step - loss: 0.5084 - accuracy: 0.4785 - mse: 0.5215\n",
            "Epoch 32/50\n",
            "103/103 [==============================] - 0s 2ms/step - loss: 0.5040 - accuracy: 0.4775 - mse: 0.5225\n",
            "Epoch 33/50\n",
            "103/103 [==============================] - 0s 2ms/step - loss: 0.5098 - accuracy: 0.4801 - mse: 0.5199\n",
            "Epoch 34/50\n",
            "103/103 [==============================] - 0s 2ms/step - loss: 0.5058 - accuracy: 0.4725 - mse: 0.5275\n",
            "Epoch 35/50\n",
            "103/103 [==============================] - 0s 2ms/step - loss: 0.5101 - accuracy: 0.4776 - mse: 0.5224\n",
            "Epoch 36/50\n",
            "103/103 [==============================] - 0s 2ms/step - loss: 0.5073 - accuracy: 0.4745 - mse: 0.5255\n",
            "Epoch 37/50\n",
            "103/103 [==============================] - 0s 1ms/step - loss: 0.5081 - accuracy: 0.4773 - mse: 0.5227\n",
            "Epoch 38/50\n",
            "103/103 [==============================] - 0s 2ms/step - loss: 0.5066 - accuracy: 0.4717 - mse: 0.5283\n",
            "Epoch 39/50\n",
            "103/103 [==============================] - 0s 2ms/step - loss: 0.5105 - accuracy: 0.4716 - mse: 0.5284\n",
            "Epoch 40/50\n",
            "103/103 [==============================] - 0s 2ms/step - loss: 0.5070 - accuracy: 0.4786 - mse: 0.5214\n",
            "Epoch 41/50\n",
            "103/103 [==============================] - 0s 2ms/step - loss: 0.5075 - accuracy: 0.4812 - mse: 0.5188\n",
            "Epoch 42/50\n",
            "103/103 [==============================] - 0s 2ms/step - loss: 0.5108 - accuracy: 0.4830 - mse: 0.5170\n",
            "Epoch 43/50\n",
            "103/103 [==============================] - 0s 2ms/step - loss: 0.5056 - accuracy: 0.4779 - mse: 0.5221\n",
            "Epoch 44/50\n",
            "103/103 [==============================] - 0s 2ms/step - loss: 0.5064 - accuracy: 0.4738 - mse: 0.5262\n",
            "Epoch 45/50\n",
            "103/103 [==============================] - 0s 2ms/step - loss: 0.5030 - accuracy: 0.4817 - mse: 0.5183\n",
            "Epoch 46/50\n",
            "103/103 [==============================] - 0s 2ms/step - loss: 0.5015 - accuracy: 0.4744 - mse: 0.5256\n",
            "Epoch 47/50\n",
            "103/103 [==============================] - 0s 2ms/step - loss: 0.5035 - accuracy: 0.4758 - mse: 0.5242\n",
            "Epoch 48/50\n",
            "103/103 [==============================] - 0s 2ms/step - loss: 0.5033 - accuracy: 0.4804 - mse: 0.5196\n",
            "Epoch 49/50\n",
            "103/103 [==============================] - 0s 2ms/step - loss: 0.5046 - accuracy: 0.4783 - mse: 0.5217\n",
            "Epoch 50/50\n",
            "103/103 [==============================] - 0s 2ms/step - loss: 0.5066 - accuracy: 0.4782 - mse: 0.5218\n"
          ],
          "name": "stdout"
        },
        {
          "output_type": "execute_result",
          "data": {
            "text/plain": [
              "<tensorflow.python.keras.callbacks.History at 0x7f52b4e465d0>"
            ]
          },
          "metadata": {
            "tags": []
          },
          "execution_count": 17
        }
      ]
    },
    {
      "cell_type": "code",
      "metadata": {
        "colab": {
          "base_uri": "https://localhost:8080/"
        },
        "id": "k6Er-9aKkGLa",
        "outputId": "274bb567-58f1-4d82-ee14-209ef8ff91fd"
      },
      "source": [
        "#Next, we'll test the model on the test dataset we set aside\r\n",
        "\r\n",
        "#Prediction on the X_test data, round each to an integer (either 0 or 1)\r\n",
        "y_pred = np.around(model.predict(X_test))\r\n",
        "\r\n",
        "#We're going to now look at the accuracy and loss\r\n",
        "score = model.evaluate(X_test, y_test, verbose=1)\r\n",
        "print(score)\r\n",
        "\r\n",
        "#We'll print precision and recall too\r\n",
        "print(f\"Precision: {precision_score(y_test, y_pred)}\")\r\n",
        "print(f\"Recall: {recall_score(y_test, y_pred)}\")"
      ],
      "execution_count": null,
      "outputs": [
        {
          "output_type": "stream",
          "text": [
            "179/179 [==============================] - 0s 999us/step - loss: 0.5406 - accuracy: 0.7121 - mse: 0.1829\n",
            "[0.5406159162521362, 0.7120894193649292, 0.18290123343467712]\n",
            "Precision: 0.6605052372150338\n",
            "Recall: 0.7970260223048327\n"
          ],
          "name": "stdout"
        }
      ]
    },
    {
      "cell_type": "code",
      "metadata": {
        "colab": {
          "base_uri": "https://localhost:8080/"
        },
        "id": "_7LkWwCskGYa",
        "outputId": "9c0a6a9e-d76e-40b1-ef18-81847f05d5f8"
      },
      "source": [
        "#Now we're going to make a confusion matri\r\n",
        "#The rows are the known labels, the columns are the predicted labels\r\n",
        "matrix = cm(y_test, y_pred)\r\n",
        "df = pd.DataFrame(columns = ['', 'is_sarcastic', 'not_sarcastic'])\r\n",
        "df.loc[len(df)] = ['is_sarcastic', matrix[0][0], matrix[0][1]]\r\n",
        "df.loc[len(df)] = ['not_sarcastic', matrix[1][0], matrix[1][1]]\r\n",
        "print(df)"
      ],
      "execution_count": null,
      "outputs": [
        {
          "output_type": "stream",
          "text": [
            "                 is_sarcastic not_sarcastic\n",
            "0   is_sarcastic         1877          1157\n",
            "1  not_sarcastic          515          2175\n"
          ],
          "name": "stdout"
        }
      ]
    },
    {
      "cell_type": "code",
      "metadata": {
        "id": "ULuuSIkKkJ5l"
      },
      "source": [
        ""
      ],
      "execution_count": null,
      "outputs": []
    }
  ]
}